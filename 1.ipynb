{
 "cells": [
  {
   "cell_type": "code",
   "execution_count": 1,
   "metadata": {},
   "outputs": [],
   "source": [
    "import csv\n",
    "\n",
    "%load_ext lab_black"
   ]
  },
  {
   "cell_type": "code",
   "execution_count": 2,
   "metadata": {},
   "outputs": [],
   "source": [
    "NUMBERS = [1721, 979, 366, 299, 675, 1456]\n",
    "\n",
    "\n",
    "def get_numbers():\n",
    "    numbers = []\n",
    "    with open(\"input-1.txt\") as csvfile:\n",
    "        reader = csv.reader(csvfile)\n",
    "        for row in reader:\n",
    "            numbers.append(int(row[0]))\n",
    "    return numbers\n",
    "\n",
    "\n",
    "# numbers = NUMBERS\n",
    "numbers = get_numbers()"
   ]
  },
  {
   "cell_type": "code",
   "execution_count": 3,
   "metadata": {},
   "outputs": [
    {
     "name": "stdout",
     "output_type": "stream",
     "text": [
      "1751 * 269 = 471019\n"
     ]
    }
   ],
   "source": [
    "numbers = get_numbers()\n",
    "for i, first in enumerate(numbers):\n",
    "    for second in numbers[i:]:\n",
    "        if first + second == 2020:\n",
    "            print(f\"{first} * {second} = {first * second}\")\n",
    "            exit()"
   ]
  },
  {
   "cell_type": "code",
   "execution_count": 4,
   "metadata": {},
   "outputs": [
    {
     "name": "stdout",
     "output_type": "stream",
     "text": [
      "1442 * 396 * 182 = 103927824\n"
     ]
    }
   ],
   "source": [
    "for i, first in enumerate(numbers):\n",
    "    for j, second in enumerate(numbers[i:]):\n",
    "        for third in numbers[j + i :]:\n",
    "            if first + second + third == 2020:\n",
    "                print(f\"{first} * {second} * {third} = {first * second * third}\")\n",
    "                exit()"
   ]
  },
  {
   "cell_type": "code",
   "execution_count": null,
   "metadata": {},
   "outputs": [],
   "source": []
  }
 ],
 "metadata": {
  "interpreter": {
   "hash": "e64c02f61560406a60716b7906fd7f52d1cc0322ca09f6df3779e8a91e72021f"
  },
  "kernelspec": {
   "display_name": "Python 3.9.1 64-bit ('lab391': virtualenv)",
   "language": "python",
   "name": "python3"
  },
  "language_info": {
   "codemirror_mode": {
    "name": "ipython",
    "version": 3
   },
   "file_extension": ".py",
   "mimetype": "text/x-python",
   "name": "python",
   "nbconvert_exporter": "python",
   "pygments_lexer": "ipython3",
   "version": "3.9.1"
  },
  "orig_nbformat": 4
 },
 "nbformat": 4,
 "nbformat_minor": 2
}
