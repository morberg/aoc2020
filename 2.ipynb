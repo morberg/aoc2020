{
 "cells": [
  {
   "cell_type": "code",
   "execution_count": 1,
   "metadata": {},
   "outputs": [],
   "source": [
    "import re\n",
    "\n",
    "%load_ext lab_black"
   ]
  },
  {
   "cell_type": "code",
   "execution_count": 2,
   "metadata": {},
   "outputs": [],
   "source": [
    "INPUT = \"\"\"1-3 a: abcde\n",
    "1-3 b: cdefg\n",
    "2-9 c: ccccccccc\"\"\""
   ]
  },
  {
   "cell_type": "code",
   "execution_count": 9,
   "metadata": {},
   "outputs": [],
   "source": [
    "def parse_policy(policy):\n",
    "    p = re.compile(\"(\\d+)-(\\d+) (.): (.+)\")  # low-high char: password\n",
    "    m = p.match(policy)\n",
    "    min = int(m.group(1))\n",
    "    max = int(m.group(2))\n",
    "    char = m.group(3)\n",
    "    password = m.group(4)\n",
    "    return min, max, char, password\n",
    "\n",
    "\n",
    "def verify_policy(min, max, char, password):\n",
    "    occurrences = password.count(char)\n",
    "    if min <= occurrences <= max:\n",
    "        return True\n",
    "    return False\n",
    "\n",
    "\n",
    "def count_correct(input):\n",
    "    correct = 0\n",
    "    for line in input.splitlines():\n",
    "        min, max, char, password = parse_policy(line)\n",
    "        if verify_policy(min, max, char, password):\n",
    "            correct += 1\n",
    "    return correct"
   ]
  },
  {
   "cell_type": "code",
   "execution_count": 10,
   "metadata": {},
   "outputs": [
    {
     "data": {
      "text/plain": [
       "398"
      ]
     },
     "execution_count": 10,
     "metadata": {},
     "output_type": "execute_result"
    }
   ],
   "source": [
    "with open(\"2.txt\") as f:\n",
    "    input = f.read()\n",
    "\n",
    "count_correct(input)"
   ]
  },
  {
   "cell_type": "code",
   "execution_count": null,
   "metadata": {},
   "outputs": [],
   "source": []
  }
 ],
 "metadata": {
  "interpreter": {
   "hash": "e64c02f61560406a60716b7906fd7f52d1cc0322ca09f6df3779e8a91e72021f"
  },
  "kernelspec": {
   "display_name": "Python 3.9.1 64-bit ('lab391': virtualenv)",
   "language": "python",
   "name": "python3"
  },
  "language_info": {
   "codemirror_mode": {
    "name": "ipython",
    "version": 3
   },
   "file_extension": ".py",
   "mimetype": "text/x-python",
   "name": "python",
   "nbconvert_exporter": "python",
   "pygments_lexer": "ipython3",
   "version": "3.9.1"
  },
  "orig_nbformat": 4
 },
 "nbformat": 4,
 "nbformat_minor": 2
}
