{
 "cells": [
  {
   "cell_type": "code",
   "execution_count": 36,
   "metadata": {},
   "outputs": [],
   "source": [
    "import math\n",
    "\n",
    "%load_ext lab_black"
   ]
  },
  {
   "cell_type": "code",
   "execution_count": 1,
   "metadata": {},
   "outputs": [],
   "source": [
    "INPUT = \"\"\"..##.......\n",
    "#...#...#..\n",
    ".#....#..#.\n",
    "..#.#...#.#\n",
    ".#...##..#.\n",
    "..#.##.....\n",
    ".#.#.#....#\n",
    ".#........#\n",
    "#.##...#...\n",
    "#...##....#\n",
    ".#..#...#.#\"\"\""
   ]
  },
  {
   "cell_type": "code",
   "execution_count": 38,
   "metadata": {},
   "outputs": [],
   "source": [
    "def tree_hits_down_one(increment, slope):\n",
    "    position = 0\n",
    "    trees = 0\n",
    "    for row in slope.splitlines():\n",
    "        if row[position] == \"#\":\n",
    "            trees += 1\n",
    "        width = len(row)\n",
    "        position = (position + increment) % width\n",
    "    return trees\n",
    "\n",
    "\n",
    "def tree_hits_down_two(increment, slope):\n",
    "    position = 0\n",
    "    trees = 0\n",
    "    for i, row in enumerate(slope.splitlines()):\n",
    "        if i % 2 == 0:\n",
    "            ## Even lines\n",
    "            if row[position] == \"#\":\n",
    "                trees += 1\n",
    "            width = len(row)\n",
    "            position = (position + increment) % width\n",
    "    return trees"
   ]
  },
  {
   "cell_type": "code",
   "execution_count": 39,
   "metadata": {},
   "outputs": [
    {
     "data": {
      "text/plain": [
       "336"
      ]
     },
     "execution_count": 39,
     "metadata": {},
     "output_type": "execute_result"
    }
   ],
   "source": [
    "#input = INPUT\n",
    "with open('3.txt') as f:\n",
    "    input = f.read()\n",
    "\n",
    "increments = [1, 3, 5, 7]\n",
    "hits = []\n",
    "for increment in increments:\n",
    "    hits.append(tree_hits_down_one(increment, input))\n",
    "hits.append(tree_hits_down_two(1, input))\n",
    "\n",
    "math.prod(hits)"
   ]
  },
  {
   "cell_type": "code",
   "execution_count": 32,
   "metadata": {},
   "outputs": [
    {
     "data": {
      "text/plain": [
       "0"
      ]
     },
     "execution_count": 32,
     "metadata": {},
     "output_type": "execute_result"
    }
   ],
   "source": []
  },
  {
   "cell_type": "code",
   "execution_count": null,
   "metadata": {},
   "outputs": [],
   "source": []
  }
 ],
 "metadata": {
  "interpreter": {
   "hash": "e64c02f61560406a60716b7906fd7f52d1cc0322ca09f6df3779e8a91e72021f"
  },
  "kernelspec": {
   "display_name": "Python 3.9.1 64-bit ('lab391': virtualenv)",
   "language": "python",
   "name": "python3"
  },
  "language_info": {
   "codemirror_mode": {
    "name": "ipython",
    "version": 3
   },
   "file_extension": ".py",
   "mimetype": "text/x-python",
   "name": "python",
   "nbconvert_exporter": "python",
   "pygments_lexer": "ipython3",
   "version": "3.9.1"
  },
  "orig_nbformat": 4
 },
 "nbformat": 4,
 "nbformat_minor": 2
}
