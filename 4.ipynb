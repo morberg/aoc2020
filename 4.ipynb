{
 "cells": [
  {
   "cell_type": "code",
   "execution_count": 1,
   "metadata": {},
   "outputs": [],
   "source": [
    "%load_ext lab_black"
   ]
  },
  {
   "cell_type": "code",
   "execution_count": 2,
   "metadata": {},
   "outputs": [],
   "source": [
    "INPUT = \"\"\"ecl:gry pid:860033327 eyr:2020 hcl:#fffffd\n",
    "byr:1937 iyr:2017 cid:147 hgt:183cm\n",
    "\n",
    "iyr:2013 ecl:amb cid:350 eyr:2023 pid:028048884\n",
    "hcl:#cfa07d byr:1929\n",
    "\n",
    "hcl:#ae17e1 iyr:2013\n",
    "eyr:2024\n",
    "ecl:brn pid:760753108 byr:1931\n",
    "hgt:179cm\n",
    "\n",
    "hcl:#cfa07d eyr:2025 pid:166559648\n",
    "iyr:2011 ecl:brn hgt:59in\"\"\""
   ]
  },
  {
   "cell_type": "code",
   "execution_count": 58,
   "metadata": {},
   "outputs": [],
   "source": [
    "input = INPUT\n",
    "lines = [\"\"]\n",
    "counter = 0\n",
    "for line in input.splitlines():\n",
    "    if line == \"\":\n",
    "        # New passport\n",
    "        lines.append(\"\")\n",
    "        counter += 1\n",
    "    else:\n",
    "        lines[counter] += \" \" + line"
   ]
  },
  {
   "cell_type": "code",
   "execution_count": 59,
   "metadata": {},
   "outputs": [],
   "source": [
    "def create_passport(line):\n",
    "    passport = {}\n",
    "    for entry in line.strip().split():\n",
    "        key, value = entry.split(\":\")\n",
    "        passport[key] = value\n",
    "\n",
    "    return passport\n",
    "\n",
    "\n",
    "passports = [create_passport(line) for line in lines]"
   ]
  },
  {
   "cell_type": "code",
   "execution_count": 62,
   "metadata": {},
   "outputs": [
    {
     "data": {
      "text/plain": [
       "{'iyr': '2013',\n",
       " 'ecl': 'amb',\n",
       " 'cid': '350',\n",
       " 'eyr': '2023',\n",
       " 'pid': '028048884',\n",
       " 'hcl': '#cfa07d',\n",
       " 'byr': '1929'}"
      ]
     },
     "execution_count": 62,
     "metadata": {},
     "output_type": "execute_result"
    }
   ],
   "source": [
    "# Expected fields\n",
    "# byr (Birth Year)\n",
    "# iyr (Issue Year)\n",
    "# eyr (Expiration Year)\n",
    "# hgt (Height)\n",
    "# hcl (Hair Color)\n",
    "# ecl (Eye Color)\n",
    "# pid (Passport ID)\n",
    "# cid (Country ID)\n",
    "\n",
    "def validate(passport):\n",
    "    \n"
   ]
  },
  {
   "cell_type": "code",
   "execution_count": null,
   "metadata": {},
   "outputs": [],
   "source": []
  }
 ],
 "metadata": {
  "interpreter": {
   "hash": "e64c02f61560406a60716b7906fd7f52d1cc0322ca09f6df3779e8a91e72021f"
  },
  "kernelspec": {
   "display_name": "Python 3.9.1 64-bit ('lab391': virtualenv)",
   "language": "python",
   "name": "python3"
  },
  "language_info": {
   "codemirror_mode": {
    "name": "ipython",
    "version": 3
   },
   "file_extension": ".py",
   "mimetype": "text/x-python",
   "name": "python",
   "nbconvert_exporter": "python",
   "pygments_lexer": "ipython3",
   "version": "3.9.1"
  },
  "orig_nbformat": 4
 },
 "nbformat": 4,
 "nbformat_minor": 2
}
